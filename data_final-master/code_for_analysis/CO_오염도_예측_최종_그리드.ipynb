{
 "cells": [
  {
   "cell_type": "code",
   "execution_count": 1,
   "id": "rising-building",
   "metadata": {},
   "outputs": [],
   "source": [
    "import pandas as pd\n",
    "import seaborn as sns\n",
    "import matplotlib.pyplot as plt\n",
    "import numpy as np\n",
    "from sklearn.linear_model import LinearRegression\n",
    "\n",
    "elec_car = pd.read_csv('C:\\\\Users\\\\hhshi\\\\OneDrive\\\\바탕 화면\\\\전기자동차_최종.csv',encoding = 'utf-8')\n",
    "co_accuracy = pd.read_csv('C:\\\\Users\\\\hhshi\\\\OneDrive\\\\바탕 화면\\\\CO오염도_최종.csv',encoding = 'utf-8')\n",
    "norm_car = pd.read_csv('C:\\\\Users\\\\hhshi\\\\OneDrive\\\\바탕 화면\\\\일반자동차_최종.csv',encoding = 'utf-8')"
   ]
  },
  {
   "cell_type": "code",
   "execution_count": 2,
   "id": "separate-valuation",
   "metadata": {},
   "outputs": [
    {
     "data": {
      "text/html": [
       "<div>\n",
       "<style scoped>\n",
       "    .dataframe tbody tr th:only-of-type {\n",
       "        vertical-align: middle;\n",
       "    }\n",
       "\n",
       "    .dataframe tbody tr th {\n",
       "        vertical-align: top;\n",
       "    }\n",
       "\n",
       "    .dataframe thead th {\n",
       "        text-align: right;\n",
       "    }\n",
       "</style>\n",
       "<table border=\"1\" class=\"dataframe\">\n",
       "  <thead>\n",
       "    <tr style=\"text-align: right;\">\n",
       "      <th></th>\n",
       "      <th>서울</th>\n",
       "      <th>전기자동차</th>\n",
       "      <th>일반자동차</th>\n",
       "      <th>CO오염도</th>\n",
       "    </tr>\n",
       "  </thead>\n",
       "  <tbody>\n",
       "    <tr>\n",
       "      <th>0</th>\n",
       "      <td>2018년1월</td>\n",
       "      <td>1201</td>\n",
       "      <td>3117268</td>\n",
       "      <td>0.64</td>\n",
       "    </tr>\n",
       "    <tr>\n",
       "      <th>1</th>\n",
       "      <td>2018년2월</td>\n",
       "      <td>1202</td>\n",
       "      <td>3116923</td>\n",
       "      <td>0.62</td>\n",
       "    </tr>\n",
       "    <tr>\n",
       "      <th>2</th>\n",
       "      <td>2018년3월</td>\n",
       "      <td>1289</td>\n",
       "      <td>3115402</td>\n",
       "      <td>0.55</td>\n",
       "    </tr>\n",
       "    <tr>\n",
       "      <th>3</th>\n",
       "      <td>2018년4월</td>\n",
       "      <td>1408</td>\n",
       "      <td>3118055</td>\n",
       "      <td>0.48</td>\n",
       "    </tr>\n",
       "    <tr>\n",
       "      <th>4</th>\n",
       "      <td>2018년5월</td>\n",
       "      <td>1644</td>\n",
       "      <td>3118052</td>\n",
       "      <td>0.44</td>\n",
       "    </tr>\n",
       "    <tr>\n",
       "      <th>5</th>\n",
       "      <td>2018년6월</td>\n",
       "      <td>2041</td>\n",
       "      <td>3118428</td>\n",
       "      <td>0.45</td>\n",
       "    </tr>\n",
       "    <tr>\n",
       "      <th>6</th>\n",
       "      <td>2018년7월</td>\n",
       "      <td>2456</td>\n",
       "      <td>3119041</td>\n",
       "      <td>0.37</td>\n",
       "    </tr>\n",
       "    <tr>\n",
       "      <th>7</th>\n",
       "      <td>2018년8월</td>\n",
       "      <td>2850</td>\n",
       "      <td>3118682</td>\n",
       "      <td>0.36</td>\n",
       "    </tr>\n",
       "    <tr>\n",
       "      <th>8</th>\n",
       "      <td>2018년9월</td>\n",
       "      <td>3383</td>\n",
       "      <td>3120541</td>\n",
       "      <td>0.38</td>\n",
       "    </tr>\n",
       "    <tr>\n",
       "      <th>9</th>\n",
       "      <td>2018년10월</td>\n",
       "      <td>3892</td>\n",
       "      <td>3120004</td>\n",
       "      <td>0.47</td>\n",
       "    </tr>\n",
       "    <tr>\n",
       "      <th>10</th>\n",
       "      <td>2018년11월</td>\n",
       "      <td>4569</td>\n",
       "      <td>3119133</td>\n",
       "      <td>0.66</td>\n",
       "    </tr>\n",
       "    <tr>\n",
       "      <th>11</th>\n",
       "      <td>2018년12월</td>\n",
       "      <td>4756</td>\n",
       "      <td>3119895</td>\n",
       "      <td>0.65</td>\n",
       "    </tr>\n",
       "    <tr>\n",
       "      <th>12</th>\n",
       "      <td>2019년1월</td>\n",
       "      <td>4745</td>\n",
       "      <td>3123675</td>\n",
       "      <td>0.76</td>\n",
       "    </tr>\n",
       "    <tr>\n",
       "      <th>13</th>\n",
       "      <td>2019년2월</td>\n",
       "      <td>4820</td>\n",
       "      <td>3124142</td>\n",
       "      <td>0.68</td>\n",
       "    </tr>\n",
       "    <tr>\n",
       "      <th>14</th>\n",
       "      <td>2019년3월</td>\n",
       "      <td>5150</td>\n",
       "      <td>3122086</td>\n",
       "      <td>0.68</td>\n",
       "    </tr>\n",
       "    <tr>\n",
       "      <th>15</th>\n",
       "      <td>2019년4월</td>\n",
       "      <td>5392</td>\n",
       "      <td>3118897</td>\n",
       "      <td>0.46</td>\n",
       "    </tr>\n",
       "    <tr>\n",
       "      <th>16</th>\n",
       "      <td>2019년5월</td>\n",
       "      <td>5827</td>\n",
       "      <td>3115980</td>\n",
       "      <td>0.46</td>\n",
       "    </tr>\n",
       "    <tr>\n",
       "      <th>17</th>\n",
       "      <td>2019년6월</td>\n",
       "      <td>6268</td>\n",
       "      <td>3114064</td>\n",
       "      <td>0.39</td>\n",
       "    </tr>\n",
       "    <tr>\n",
       "      <th>18</th>\n",
       "      <td>2019년7월</td>\n",
       "      <td>6851</td>\n",
       "      <td>3114289</td>\n",
       "      <td>0.39</td>\n",
       "    </tr>\n",
       "    <tr>\n",
       "      <th>19</th>\n",
       "      <td>2019년8월</td>\n",
       "      <td>7083</td>\n",
       "      <td>3113809</td>\n",
       "      <td>0.43</td>\n",
       "    </tr>\n",
       "    <tr>\n",
       "      <th>20</th>\n",
       "      <td>2019년9월</td>\n",
       "      <td>7520</td>\n",
       "      <td>3114167</td>\n",
       "      <td>0.42</td>\n",
       "    </tr>\n",
       "    <tr>\n",
       "      <th>21</th>\n",
       "      <td>2019년10월</td>\n",
       "      <td>7973</td>\n",
       "      <td>3113443</td>\n",
       "      <td>0.46</td>\n",
       "    </tr>\n",
       "    <tr>\n",
       "      <th>22</th>\n",
       "      <td>2019년11월</td>\n",
       "      <td>8956</td>\n",
       "      <td>3113477</td>\n",
       "      <td>0.60</td>\n",
       "    </tr>\n",
       "    <tr>\n",
       "      <th>23</th>\n",
       "      <td>2019년12월</td>\n",
       "      <td>9804</td>\n",
       "      <td>3114353</td>\n",
       "      <td>0.64</td>\n",
       "    </tr>\n",
       "    <tr>\n",
       "      <th>24</th>\n",
       "      <td>2020년1월</td>\n",
       "      <td>9997</td>\n",
       "      <td>3117569</td>\n",
       "      <td>0.68</td>\n",
       "    </tr>\n",
       "    <tr>\n",
       "      <th>25</th>\n",
       "      <td>2020년2월</td>\n",
       "      <td>10954</td>\n",
       "      <td>3113030</td>\n",
       "      <td>0.59</td>\n",
       "    </tr>\n",
       "    <tr>\n",
       "      <th>26</th>\n",
       "      <td>2020년3월</td>\n",
       "      <td>11507</td>\n",
       "      <td>3113826</td>\n",
       "      <td>0.49</td>\n",
       "    </tr>\n",
       "    <tr>\n",
       "      <th>27</th>\n",
       "      <td>2020년4월</td>\n",
       "      <td>12121</td>\n",
       "      <td>3116402</td>\n",
       "      <td>0.40</td>\n",
       "    </tr>\n",
       "    <tr>\n",
       "      <th>28</th>\n",
       "      <td>2020년5월</td>\n",
       "      <td>12476</td>\n",
       "      <td>3120877</td>\n",
       "      <td>0.40</td>\n",
       "    </tr>\n",
       "    <tr>\n",
       "      <th>29</th>\n",
       "      <td>2020년6월</td>\n",
       "      <td>13746</td>\n",
       "      <td>3127964</td>\n",
       "      <td>0.40</td>\n",
       "    </tr>\n",
       "    <tr>\n",
       "      <th>30</th>\n",
       "      <td>2020년7월</td>\n",
       "      <td>14322</td>\n",
       "      <td>3132827</td>\n",
       "      <td>0.38</td>\n",
       "    </tr>\n",
       "    <tr>\n",
       "      <th>31</th>\n",
       "      <td>2020년8월</td>\n",
       "      <td>15310</td>\n",
       "      <td>3132761</td>\n",
       "      <td>0.31</td>\n",
       "    </tr>\n",
       "    <tr>\n",
       "      <th>32</th>\n",
       "      <td>2020년9월</td>\n",
       "      <td>16414</td>\n",
       "      <td>3135428</td>\n",
       "      <td>0.36</td>\n",
       "    </tr>\n",
       "    <tr>\n",
       "      <th>33</th>\n",
       "      <td>2020년10월</td>\n",
       "      <td>16960</td>\n",
       "      <td>3136772</td>\n",
       "      <td>0.49</td>\n",
       "    </tr>\n",
       "    <tr>\n",
       "      <th>34</th>\n",
       "      <td>2020년11월</td>\n",
       "      <td>17284</td>\n",
       "      <td>3139994</td>\n",
       "      <td>0.56</td>\n",
       "    </tr>\n",
       "    <tr>\n",
       "      <th>35</th>\n",
       "      <td>2020년12월</td>\n",
       "      <td>17479</td>\n",
       "      <td>3139882</td>\n",
       "      <td>0.59</td>\n",
       "    </tr>\n",
       "  </tbody>\n",
       "</table>\n",
       "</div>"
      ],
      "text/plain": [
       "          서울  전기자동차    일반자동차  CO오염도\n",
       "0    2018년1월   1201  3117268   0.64\n",
       "1    2018년2월   1202  3116923   0.62\n",
       "2    2018년3월   1289  3115402   0.55\n",
       "3    2018년4월   1408  3118055   0.48\n",
       "4    2018년5월   1644  3118052   0.44\n",
       "5    2018년6월   2041  3118428   0.45\n",
       "6    2018년7월   2456  3119041   0.37\n",
       "7    2018년8월   2850  3118682   0.36\n",
       "8    2018년9월   3383  3120541   0.38\n",
       "9   2018년10월   3892  3120004   0.47\n",
       "10  2018년11월   4569  3119133   0.66\n",
       "11  2018년12월   4756  3119895   0.65\n",
       "12   2019년1월   4745  3123675   0.76\n",
       "13   2019년2월   4820  3124142   0.68\n",
       "14   2019년3월   5150  3122086   0.68\n",
       "15   2019년4월   5392  3118897   0.46\n",
       "16   2019년5월   5827  3115980   0.46\n",
       "17   2019년6월   6268  3114064   0.39\n",
       "18   2019년7월   6851  3114289   0.39\n",
       "19   2019년8월   7083  3113809   0.43\n",
       "20   2019년9월   7520  3114167   0.42\n",
       "21  2019년10월   7973  3113443   0.46\n",
       "22  2019년11월   8956  3113477   0.60\n",
       "23  2019년12월   9804  3114353   0.64\n",
       "24   2020년1월   9997  3117569   0.68\n",
       "25   2020년2월  10954  3113030   0.59\n",
       "26   2020년3월  11507  3113826   0.49\n",
       "27   2020년4월  12121  3116402   0.40\n",
       "28   2020년5월  12476  3120877   0.40\n",
       "29   2020년6월  13746  3127964   0.40\n",
       "30   2020년7월  14322  3132827   0.38\n",
       "31   2020년8월  15310  3132761   0.31\n",
       "32   2020년9월  16414  3135428   0.36\n",
       "33  2020년10월  16960  3136772   0.49\n",
       "34  2020년11월  17284  3139994   0.56\n",
       "35  2020년12월  17479  3139882   0.59"
      ]
     },
     "execution_count": 2,
     "metadata": {},
     "output_type": "execute_result"
    }
   ],
   "source": [
    "#전기자동차\n",
    "#서울 행 추출\n",
    "data_s = elec_car.loc[0]\n",
    "data_s = data_s.values.reshape(1,-1)\n",
    "data_s = data_s.tolist()\n",
    "data_s = sum(data_s, [])\n",
    "data_s = data_s[1:]\n",
    "\n",
    "#경기 행 추출\n",
    "data_g = elec_car.loc[1]\n",
    "data_g = data_g.values.reshape(1,-1)\n",
    "data_g = data_g.tolist()\n",
    "data_g = sum(data_g, [])\n",
    "data_g = data_g[1:]\n",
    "\n",
    "#인천 행 추출\n",
    "data_i = elec_car.loc[2]\n",
    "data_i = data_i.values.reshape(1,-1)\n",
    "data_i = data_i.tolist()\n",
    "data_i = sum(data_i, [])\n",
    "data_i = data_i[1:]\n",
    "\n",
    "#대구 행 추출\n",
    "data_d = elec_car.loc[3]\n",
    "data_d = data_d.values.reshape(1,-1)\n",
    "data_d = data_d.tolist()\n",
    "data_d = sum(data_d, [])\n",
    "data_d = data_d[1:]\n",
    "\n",
    "#제주 행 추출\n",
    "data_j = elec_car.loc[4]\n",
    "data_j = data_j.values.reshape(1,-1)\n",
    "data_j = data_j.tolist()\n",
    "data_j = sum(data_j, [])\n",
    "data_j = data_j[1:]\n",
    "\n",
    "#CO오염도\n",
    "#서울 행 추출\n",
    "co_data_s = co_accuracy.loc[0]\n",
    "co_data_s = co_data_s.values.reshape(1,-1)\n",
    "co_data_s = co_data_s.tolist()\n",
    "co_data_s = sum(co_data_s, [])\n",
    "co_data_s = co_data_s[1:]\n",
    "\n",
    "\n",
    "#경기 행 추출\n",
    "co_data_g = co_accuracy.loc[1]\n",
    "co_data_g = co_data_g.values.reshape(1,-1)\n",
    "co_data_g = co_data_g.tolist()\n",
    "co_data_g = sum(co_data_g, [])\n",
    "co_data_g = co_data_g[1:]\n",
    "\n",
    "\n",
    "#인천 행 추출\n",
    "co_data_i = co_accuracy.loc[2]\n",
    "co_data_i = co_data_i.values.reshape(1,-1)\n",
    "co_data_i = co_data_i.tolist()\n",
    "co_data_i = sum(co_data_i, [])\n",
    "co_data_i = co_data_i[1:]\n",
    "\n",
    "#대구 행 추출\n",
    "co_data_d = co_accuracy.loc[3]\n",
    "co_data_d = co_data_d.values.reshape(1,-1)\n",
    "co_data_d = co_data_d.tolist()\n",
    "co_data_d = sum(co_data_d, [])\n",
    "co_data_d = co_data_d[1:]\n",
    "\n",
    "\n",
    "#제주 행 추출\n",
    "co_data_j = co_accuracy.loc[4]\n",
    "co_data_j = co_data_j.values.reshape(1,-1)\n",
    "co_data_j = co_data_j.tolist()\n",
    "co_data_j = sum(co_data_j, [])\n",
    "co_data_j = co_data_j[1:]\n",
    "\n",
    "#일반자동차\n",
    "#서울 행 추출\n",
    "data_ns = norm_car.loc[0]\n",
    "data_ns = data_ns.values.reshape(1,-1)\n",
    "data_ns = data_ns.tolist()\n",
    "data_ns = sum(data_ns, [])\n",
    "data_ns = data_ns[1:]\n",
    "\n",
    "#경기 행 추출\n",
    "data_ng = norm_car.loc[1]\n",
    "data_ng = data_ng.values.reshape(1,-1)\n",
    "data_ng = data_ng.tolist()\n",
    "data_ng = sum(data_ng, [])\n",
    "data_ng = data_ng[1:]\n",
    "\n",
    "#인천 행 추출\n",
    "data_ni = norm_car.loc[2]\n",
    "data_ni = data_ni.values.reshape(1,-1)\n",
    "data_ni = data_ni.tolist()\n",
    "data_ni = sum(data_ni, [])\n",
    "data_ni = data_ni[1:]\n",
    "\n",
    "#대구 행 추출\n",
    "data_nd = norm_car.loc[3]\n",
    "data_nd = data_nd.values.reshape(1,-1)\n",
    "data_nd = data_nd.tolist()\n",
    "data_nd = sum(data_nd, [])\n",
    "data_nd = data_nd[1:]\n",
    "\n",
    "#제주 행 추출\n",
    "data_nj = norm_car.loc[4]\n",
    "data_nj = data_nj.values.reshape(1,-1)\n",
    "data_nj = data_nj.tolist()\n",
    "data_nj = sum(data_nj, [])\n",
    "data_nj = data_nj[1:]\n",
    "\n",
    "#서울\n",
    "seoul = pd.read_csv('C:\\신현호\\코딩스터디\\서울_통합.csv',encoding = 'utf-8')\n",
    "seoul['전기자동차'] = data_s\n",
    "seoul['일반자동차'] = data_ns\n",
    "seoul['CO오염도'] = co_data_s\n",
    "seoul"
   ]
  },
  {
   "cell_type": "code",
   "execution_count": 3,
   "id": "comic-nirvana",
   "metadata": {},
   "outputs": [
    {
     "data": {
      "text/plain": [
       "[0.0385,\n",
       " 0.0385,\n",
       " 0.0414,\n",
       " 0.0451,\n",
       " 0.0527,\n",
       " 0.0654,\n",
       " 0.0787,\n",
       " 0.0913,\n",
       " 0.1083,\n",
       " 0.1246,\n",
       " 0.1463,\n",
       " 0.1522,\n",
       " 0.1517,\n",
       " 0.154,\n",
       " 0.1647,\n",
       " 0.1726,\n",
       " 0.1867,\n",
       " 0.2009,\n",
       " 0.2195,\n",
       " 0.227,\n",
       " 0.2409,\n",
       " 0.2554,\n",
       " 0.2868,\n",
       " 0.3138,\n",
       " 0.3196,\n",
       " 0.3506,\n",
       " 0.3682,\n",
       " 0.3874,\n",
       " 0.3982,\n",
       " 0.4375,\n",
       " 0.4551,\n",
       " 0.4863,\n",
       " 0.5208,\n",
       " 0.5378,\n",
       " 0.5474,\n",
       " 0.5536]"
      ]
     },
     "execution_count": 3,
     "metadata": {},
     "output_type": "execute_result"
    }
   ],
   "source": [
    "#친환경자동차 비율 \n",
    "percentage_s = []\n",
    "for i in range(36):\n",
    "    percentage_s.append(round(data_s[i]/(data_s[i]+data_ns[i])*100,4))\n",
    "percentage_s"
   ]
  },
  {
   "cell_type": "code",
   "execution_count": 4,
   "id": "public-hearts",
   "metadata": {},
   "outputs": [
    {
     "data": {
      "text/plain": [
       "[<matplotlib.lines.Line2D at 0x265e1617bb0>]"
      ]
     },
     "execution_count": 4,
     "metadata": {},
     "output_type": "execute_result"
    },
    {
     "data": {
      "image/png": "[encoded data removed]",
      "text/plain": [
       "<Figure size 432x288 with 1 Axes>"
      ]
     },
     "metadata": {
      "needs_background": "light"
     },
     "output_type": "display_data"
    }
   ],
   "source": [
    "#친환경자동차 비율: x, CO오염도: y\n",
    "plt.plot(percentage_s,co_data_s,'o')"
   ]
  },
  {
   "cell_type": "code",
   "execution_count": 5,
   "id": "powerful-stability",
   "metadata": {},
   "outputs": [
    {
     "data": {
      "text/plain": [
       "array([[0.0385    , 0.00148225],\n",
       "       [0.0385    , 0.00148225],\n",
       "       [0.0414    , 0.00171396],\n",
       "       [0.0451    , 0.00203401],\n",
       "       [0.0527    , 0.00277729],\n",
       "       [0.0654    , 0.00427716],\n",
       "       [0.0787    , 0.00619369],\n",
       "       [0.0913    , 0.00833569],\n",
       "       [0.1083    , 0.01172889],\n",
       "       [0.1246    , 0.01552516],\n",
       "       [0.1463    , 0.02140369],\n",
       "       [0.1522    , 0.02316484],\n",
       "       [0.1517    , 0.02301289],\n",
       "       [0.154     , 0.023716  ],\n",
       "       [0.1647    , 0.02712609],\n",
       "       [0.1726    , 0.02979076],\n",
       "       [0.1867    , 0.03485689],\n",
       "       [0.2009    , 0.04036081],\n",
       "       [0.2195    , 0.04818025],\n",
       "       [0.227     , 0.051529  ],\n",
       "       [0.2409    , 0.05803281],\n",
       "       [0.2554    , 0.06522916],\n",
       "       [0.2868    , 0.08225424],\n",
       "       [0.3138    , 0.09847044],\n",
       "       [0.3196    , 0.10214416],\n",
       "       [0.3506    , 0.12292036],\n",
       "       [0.3682    , 0.13557124],\n",
       "       [0.3874    , 0.15007876],\n",
       "       [0.3982    , 0.15856324],\n",
       "       [0.4375    , 0.19140625],\n",
       "       [0.4551    , 0.20711601],\n",
       "       [0.4863    , 0.23648769],\n",
       "       [0.5208    , 0.27123264],\n",
       "       [0.5378    , 0.28922884],\n",
       "       [0.5474    , 0.29964676],\n",
       "       [0.5536    , 0.30647296]])"
      ]
     },
     "execution_count": 5,
     "metadata": {},
     "output_type": "execute_result"
    }
   ],
   "source": [
    "from sklearn.preprocessing import PolynomialFeatures\n",
    "percentage_s = np.array(percentage_s)\n",
    "X = percentage_s\n",
    "poly_feature = PolynomialFeatures(degree = 2,include_bias = False)\n",
    "\n",
    "X_poly = poly_feature.fit_transform(X.reshape(-1,1))\n",
    "X_poly"
   ]
  },
  {
   "cell_type": "code",
   "execution_count": 6,
   "id": "sudden-internship",
   "metadata": {},
   "outputs": [],
   "source": [
    "line_fitter = LinearRegression()\n",
    "line_fitter.fit(X_poly, co_data_s)\n",
    "\n",
    "X_test = np.linspace(0.03,0.56,36).reshape(36,1)"
   ]
  },
  {
   "cell_type": "code",
   "execution_count": 11,
   "id": "affecting-prompt",
   "metadata": {},
   "outputs": [
    {
     "data": {
      "image/png": "[encoded data removed]",
      "text/plain": [
       "<Figure size 720x720 with 1 Axes>"
      ]
     },
     "metadata": {},
     "output_type": "display_data"
    }
   ],
   "source": [
    "import matplotlib\n",
    "\n",
    "plt.rc('font', family='NanumGothic')\n",
    "matplotlib.rcParams['axes.unicode_minus'] = False\n",
    "def divide_list(l,n):\n",
    "    for i in range(0,len(l),n):\n",
    "        yield l[i:i+n]\n",
    "\n",
    "X_test_poly = poly_feature.fit_transform(X_test)\n",
    "y_pred = line_fitter.predict(X_test_poly)   #co 예측값\n",
    "\n",
    "#new_y = list(divide_list(y_pred,2))\n",
    "# len(X_test_poly)\n",
    "fig = plt.figure(figsize=(10,10))\n",
    "fig.set_facecolor('white')\n",
    "ax = fig.add_subplot()\n",
    "\n",
    "ax.plot(X, co_data_s,'o',label = '실제값')\n",
    "#ax.plot(X, new_y,'r')\n",
    "ax.plot(X_test, y_pred,'r',label = '예측값')\n",
    "plt.xlabel('전기자동차 비율')\n",
    "plt.ylabel('CO 오염도')\n",
    "plt.legend()\n",
    "plt.grid(linestyle='--')\n",
    "plt.ylim([0, 1])\n",
    "\n",
    "plt.title('서울')\n",
    "plt.show()"
   ]
  },
  {
   "cell_type": "code",
   "execution_count": 12,
   "id": "integral-federal",
   "metadata": {},
   "outputs": [
    {
     "name": "stdout",
     "output_type": "stream",
     "text": [
      "0.10317\n",
      "[0.11816546 0.09821578 0.02838744 0.04131954 0.08090517 0.07036946\n",
      " 0.14971239 0.15893397 0.1380342  0.04701308 0.14412939 0.13539322\n",
      " 0.24677839 0.16828492 0.16991279 0.04833798 0.04646741 0.11447548\n",
      " 0.1123622  0.07012757 0.07777159 0.03529426 0.10730442 0.15002445\n",
      " 0.19286583 0.10582857 0.00891265 0.07788191 0.07455513 0.07110699\n",
      " 0.0875375  0.15384667 0.10003448 0.03389906 0.10795395 0.14213019]\n"
     ]
    }
   ],
   "source": [
    "residual_2 = abs(co_data_s - y_pred)\n",
    "avg_2 = sum(residual_2,0.0)/len(residual_2)\n",
    "print(round(avg_2,5))\n",
    "print(residual_2)"
   ]
  },
  {
   "cell_type": "code",
   "execution_count": 13,
   "id": "renewable-nepal",
   "metadata": {},
   "outputs": [
    {
     "data": {
      "text/plain": [
       "[0.0154,\n",
       " 0.0157,\n",
       " 0.0177,\n",
       " 0.02,\n",
       " 0.0247,\n",
       " 0.0346,\n",
       " 0.0416,\n",
       " 0.0469,\n",
       " 0.0519,\n",
       " 0.0589,\n",
       " 0.0669,\n",
       " 0.0695,\n",
       " 0.0699,\n",
       " 0.0712,\n",
       " 0.0826,\n",
       " 0.093,\n",
       " 0.1049,\n",
       " 0.1159,\n",
       " 0.1263,\n",
       " 0.1325,\n",
       " 0.139,\n",
       " 0.1466,\n",
       " 0.1541,\n",
       " 0.1586,\n",
       " 0.1587,\n",
       " 0.1669,\n",
       " 0.1918,\n",
       " 0.2,\n",
       " 0.204,\n",
       " 0.2201,\n",
       " 0.2275,\n",
       " 0.2406,\n",
       " 0.2562,\n",
       " 0.2599,\n",
       " 0.2649,\n",
       " 0.269]"
      ]
     },
     "execution_count": 13,
     "metadata": {},
     "output_type": "execute_result"
    }
   ],
   "source": [
    "#경기\n",
    "#친환경자동차 비율 \n",
    "percentage_g = []\n",
    "for i in range(36):\n",
    "    percentage_g.append(round(data_g[i]/(data_g[i]+data_ng[i])*100,4))\n",
    "percentage_g"
   ]
  },
  {
   "cell_type": "code",
   "execution_count": 14,
   "id": "cooked-notebook",
   "metadata": {},
   "outputs": [
    {
     "data": {
      "text/plain": [
       "[<matplotlib.lines.Line2D at 0x265e3b5a4f0>]"
      ]
     },
     "execution_count": 14,
     "metadata": {},
     "output_type": "execute_result"
    },
    {
     "data": {
      "image/png": "[encoded data removed]",
      "text/plain": [
       "<Figure size 432x288 with 1 Axes>"
      ]
     },
     "metadata": {
      "needs_background": "light"
     },
     "output_type": "display_data"
    }
   ],
   "source": [
    "#친환경자동차 비율: x, CO오염도: y\n",
    "plt.plot(percentage_g,co_data_g,'o')"
   ]
  },
  {
   "cell_type": "code",
   "execution_count": 15,
   "id": "another-klein",
   "metadata": {},
   "outputs": [
    {
     "data": {
      "text/plain": [
       "array([[1.540000e-02, 2.371600e-04],\n",
       "       [1.570000e-02, 2.464900e-04],\n",
       "       [1.770000e-02, 3.132900e-04],\n",
       "       [2.000000e-02, 4.000000e-04],\n",
       "       [2.470000e-02, 6.100900e-04],\n",
       "       [3.460000e-02, 1.197160e-03],\n",
       "       [4.160000e-02, 1.730560e-03],\n",
       "       [4.690000e-02, 2.199610e-03],\n",
       "       [5.190000e-02, 2.693610e-03],\n",
       "       [5.890000e-02, 3.469210e-03],\n",
       "       [6.690000e-02, 4.475610e-03],\n",
       "       [6.950000e-02, 4.830250e-03],\n",
       "       [6.990000e-02, 4.886010e-03],\n",
       "       [7.120000e-02, 5.069440e-03],\n",
       "       [8.260000e-02, 6.822760e-03],\n",
       "       [9.300000e-02, 8.649000e-03],\n",
       "       [1.049000e-01, 1.100401e-02],\n",
       "       [1.159000e-01, 1.343281e-02],\n",
       "       [1.263000e-01, 1.595169e-02],\n",
       "       [1.325000e-01, 1.755625e-02],\n",
       "       [1.390000e-01, 1.932100e-02],\n",
       "       [1.466000e-01, 2.149156e-02],\n",
       "       [1.541000e-01, 2.374681e-02],\n",
       "       [1.586000e-01, 2.515396e-02],\n",
       "       [1.587000e-01, 2.518569e-02],\n",
       "       [1.669000e-01, 2.785561e-02],\n",
       "       [1.918000e-01, 3.678724e-02],\n",
       "       [2.000000e-01, 4.000000e-02],\n",
       "       [2.040000e-01, 4.161600e-02],\n",
       "       [2.201000e-01, 4.844401e-02],\n",
       "       [2.275000e-01, 5.175625e-02],\n",
       "       [2.406000e-01, 5.788836e-02],\n",
       "       [2.562000e-01, 6.563844e-02],\n",
       "       [2.599000e-01, 6.754801e-02],\n",
       "       [2.649000e-01, 7.017201e-02],\n",
       "       [2.690000e-01, 7.236100e-02]])"
      ]
     },
     "execution_count": 15,
     "metadata": {},
     "output_type": "execute_result"
    }
   ],
   "source": [
    "percentage_g = np.array(percentage_g)\n",
    "X_g = percentage_g\n",
    "poly_feature = PolynomialFeatures(degree = 2,include_bias = False)\n",
    "\n",
    "X_g_poly = poly_feature.fit_transform(X_g.reshape(-1,1))\n",
    "X_g_poly"
   ]
  },
  {
   "cell_type": "code",
   "execution_count": 16,
   "id": "efficient-place",
   "metadata": {},
   "outputs": [],
   "source": [
    "line_fitter_g = LinearRegression()\n",
    "line_fitter_g.fit(X_g_poly, co_data_g)\n",
    "\n",
    "X_g_test = np.linspace(0.01,0.27,36).reshape(36,1)"
   ]
  },
  {
   "cell_type": "code",
   "execution_count": 17,
   "id": "metallic-airline",
   "metadata": {},
   "outputs": [
    {
     "data": {
      "image/png": "[encoded data removed]",
      "text/plain": [
       "<Figure size 720x720 with 1 Axes>"
      ]
     },
     "metadata": {},
     "output_type": "display_data"
    }
   ],
   "source": [
    "X_test_g_poly = poly_feature.fit_transform(X_g_test)\n",
    "y_pred_g = line_fitter_g.predict(X_test_g_poly)   #co 예측값\n",
    "\n",
    "#new_y = list(divide_list(y_pred,2))\n",
    "# len(X_test_poly)\n",
    "fig = plt.figure(figsize=(10,10))\n",
    "fig.set_facecolor('white')\n",
    "ax = fig.add_subplot()\n",
    "\n",
    "ax.plot(X_g, co_data_g,'o',label = '실제값')\n",
    "#ax.plot(X, new_y,'r')\n",
    "ax.plot(X_g_test, y_pred_g,'r',label = '예측값')\n",
    "plt.xlabel('전기자동차 비율')\n",
    "plt.ylabel('CO 오염도')\n",
    "plt.legend()\n",
    "plt.grid(linestyle='--')\n",
    "plt.ylim([0, 1])\n",
    "plt.title('경기')\n",
    "plt.show()"
   ]
  },
  {
   "cell_type": "code",
   "execution_count": 18,
   "id": "lesbian-analysis",
   "metadata": {},
   "outputs": [
    {
     "name": "stdout",
     "output_type": "stream",
     "text": [
      "0.09218\n",
      "[0.17838147 0.08845248 0.03858788 0.08121233 0.10094815 0.12061958\n",
      " 0.17022663 0.14976928 0.12924755 0.05866142 0.12198909 0.12270399\n",
      " 0.22348327 0.13432695 0.13523502 0.04379253 0.04275568 0.07165445\n",
      " 0.09048883 0.04925882 0.05796442 0.03660563 0.07481755 0.12630511\n",
      " 0.16785707 0.06947341 0.01884586 0.07710074 0.05529123 0.03341733\n",
      " 0.07147904 0.10947637 0.0574093  0.01472215 0.076918   0.11917823]\n"
     ]
    }
   ],
   "source": [
    "residual_2_g = abs(co_data_g - y_pred_g)\n",
    "avg_2_g = sum(residual_2_g,0.0)/len(residual_2_g)\n",
    "print(round(avg_2_g,5))\n",
    "print(residual_2_g)"
   ]
  },
  {
   "cell_type": "code",
   "execution_count": 19,
   "id": "lined-dublin",
   "metadata": {},
   "outputs": [
    {
     "data": {
      "text/plain": [
       "[0.0165,\n",
       " 0.0169,\n",
       " 0.0181,\n",
       " 0.0196,\n",
       " 0.0239,\n",
       " 0.033,\n",
       " 0.0391,\n",
       " 0.0445,\n",
       " 0.0469,\n",
       " 0.0484,\n",
       " 0.0499,\n",
       " 0.0508,\n",
       " 0.0511,\n",
       " 0.053,\n",
       " 0.0629,\n",
       " 0.0735,\n",
       " 0.0808,\n",
       " 0.0892,\n",
       " 0.0995,\n",
       " 0.1041,\n",
       " 0.1112,\n",
       " 0.1184,\n",
       " 0.1266,\n",
       " 0.1335,\n",
       " 0.1353,\n",
       " 0.144,\n",
       " 0.1669,\n",
       " 0.1695,\n",
       " 0.1724,\n",
       " 0.1932,\n",
       " 0.2048,\n",
       " 0.2222,\n",
       " 0.2365,\n",
       " 0.241,\n",
       " 0.2569,\n",
       " 0.2752]"
      ]
     },
     "execution_count": 19,
     "metadata": {},
     "output_type": "execute_result"
    }
   ],
   "source": [
    "#인천\n",
    "#친환경자동차 비율 \n",
    "percentage_i = []\n",
    "for i in range(36):\n",
    "    percentage_i.append(round(data_i[i]/(data_i[i]+data_ni[i])*100,4))\n",
    "percentage_i"
   ]
  },
  {
   "cell_type": "code",
   "execution_count": 20,
   "id": "periodic-financing",
   "metadata": {},
   "outputs": [
    {
     "data": {
      "text/plain": [
       "array([[1.650000e-02, 2.722500e-04],\n",
       "       [1.690000e-02, 2.856100e-04],\n",
       "       [1.810000e-02, 3.276100e-04],\n",
       "       [1.960000e-02, 3.841600e-04],\n",
       "       [2.390000e-02, 5.712100e-04],\n",
       "       [3.300000e-02, 1.089000e-03],\n",
       "       [3.910000e-02, 1.528810e-03],\n",
       "       [4.450000e-02, 1.980250e-03],\n",
       "       [4.690000e-02, 2.199610e-03],\n",
       "       [4.840000e-02, 2.342560e-03],\n",
       "       [4.990000e-02, 2.490010e-03],\n",
       "       [5.080000e-02, 2.580640e-03],\n",
       "       [5.110000e-02, 2.611210e-03],\n",
       "       [5.300000e-02, 2.809000e-03],\n",
       "       [6.290000e-02, 3.956410e-03],\n",
       "       [7.350000e-02, 5.402250e-03],\n",
       "       [8.080000e-02, 6.528640e-03],\n",
       "       [8.920000e-02, 7.956640e-03],\n",
       "       [9.950000e-02, 9.900250e-03],\n",
       "       [1.041000e-01, 1.083681e-02],\n",
       "       [1.112000e-01, 1.236544e-02],\n",
       "       [1.184000e-01, 1.401856e-02],\n",
       "       [1.266000e-01, 1.602756e-02],\n",
       "       [1.335000e-01, 1.782225e-02],\n",
       "       [1.353000e-01, 1.830609e-02],\n",
       "       [1.440000e-01, 2.073600e-02],\n",
       "       [1.669000e-01, 2.785561e-02],\n",
       "       [1.695000e-01, 2.873025e-02],\n",
       "       [1.724000e-01, 2.972176e-02],\n",
       "       [1.932000e-01, 3.732624e-02],\n",
       "       [2.048000e-01, 4.194304e-02],\n",
       "       [2.222000e-01, 4.937284e-02],\n",
       "       [2.365000e-01, 5.593225e-02],\n",
       "       [2.410000e-01, 5.808100e-02],\n",
       "       [2.569000e-01, 6.599761e-02],\n",
       "       [2.752000e-01, 7.573504e-02]])"
      ]
     },
     "execution_count": 20,
     "metadata": {},
     "output_type": "execute_result"
    }
   ],
   "source": [
    "percentage_i = np.array(percentage_i)\n",
    "X_i = percentage_i\n",
    "poly_feature = PolynomialFeatures(degree = 2,include_bias = False)\n",
    "\n",
    "X_i_poly = poly_feature.fit_transform(X_i.reshape(-1,1))\n",
    "X_i_poly"
   ]
  },
  {
   "cell_type": "code",
   "execution_count": 21,
   "id": "familiar-dimension",
   "metadata": {},
   "outputs": [],
   "source": [
    "line_fitter_i = LinearRegression()\n",
    "line_fitter_i.fit(X_i_poly, co_data_i)\n",
    "\n",
    "X_i_test = np.linspace(0.01,0.28,36).reshape(36,1)"
   ]
  },
  {
   "cell_type": "code",
   "execution_count": 22,
   "id": "french-cologne",
   "metadata": {},
   "outputs": [
    {
     "data": {
      "image/png": "[encoded data removed]",
      "text/plain": [
       "<Figure size 720x720 with 1 Axes>"
      ]
     },
     "metadata": {},
     "output_type": "display_data"
    }
   ],
   "source": [
    "X_test_i_poly = poly_feature.fit_transform(X_i_test)\n",
    "y_pred_i = line_fitter_i.predict(X_test_i_poly)   #co 예측값\n",
    "\n",
    "#new_y = list(divide_list(y_pred,2))\n",
    "# len(X_test_poly)\n",
    "fig = plt.figure(figsize=(10,10))\n",
    "fig.set_facecolor('white')\n",
    "ax = fig.add_subplot()\n",
    "\n",
    "ax.plot(X_i, co_data_i,'o',label = '실제값')\n",
    "#ax.plot(X, new_y,'r')\n",
    "ax.plot(X_i_test, y_pred_i,'r', label = '예측값')\n",
    "plt.xlabel('전기자동차 비율')\n",
    "plt.ylabel('CO 오염도')\n",
    "plt.legend()\n",
    "plt.grid(linestyle='--')\n",
    "plt.ylim([0, 1])\n",
    "plt.title('인천')\n",
    "plt.show()"
   ]
  },
  {
   "cell_type": "code",
   "execution_count": 23,
   "id": "rough-resistance",
   "metadata": {},
   "outputs": [
    {
     "name": "stdout",
     "output_type": "stream",
     "text": [
      "0.09355\n",
      "[0.13533373 0.08013705 0.00521455 0.05072108 0.08638253 0.10219892\n",
      " 0.14817022 0.15429645 0.10057761 0.0270137  0.12639529 0.11964935\n",
      " 0.23274849 0.1656927  0.16848198 0.02888366 0.02640423 0.09407972\n",
      " 0.10191014 0.07989549 0.02803577 0.01633096 0.13521891 0.17661386\n",
      " 0.18785388 0.11893898 0.05986915 0.03935561 0.02873529 0.0482699\n",
      " 0.06795944 0.1578039  0.08780329 0.0079576  0.06173316 0.11126899]\n"
     ]
    }
   ],
   "source": [
    "residual_2_i = abs(co_data_i - y_pred_i)\n",
    "avg_2_i = sum(residual_2_i,0.0)/len(residual_2_i)\n",
    "print(round(avg_2_i,5))\n",
    "print(residual_2_i)"
   ]
  },
  {
   "cell_type": "code",
   "execution_count": 24,
   "id": "saved-convention",
   "metadata": {},
   "outputs": [
    {
     "data": {
      "text/plain": [
       "[0.055,\n",
       " 0.0543,\n",
       " 0.0642,\n",
       " 0.0706,\n",
       " 0.0876,\n",
       " 0.1452,\n",
       " 0.1756,\n",
       " 0.2041,\n",
       " 0.2371,\n",
       " 0.2597,\n",
       " 0.3165,\n",
       " 0.373,\n",
       " 0.3958,\n",
       " 0.3991,\n",
       " 0.4162,\n",
       " 0.4455,\n",
       " 0.4869,\n",
       " 0.5134,\n",
       " 0.5421,\n",
       " 0.5642,\n",
       " 0.5899,\n",
       " 0.6181,\n",
       " 0.6922,\n",
       " 0.7116,\n",
       " 0.7079,\n",
       " 0.7061,\n",
       " 0.7218,\n",
       " 0.7253,\n",
       " 0.7316,\n",
       " 0.7357,\n",
       " 0.7419,\n",
       " 0.7407,\n",
       " 0.7452,\n",
       " 0.7457,\n",
       " 0.7455,\n",
       " 0.7398]"
      ]
     },
     "execution_count": 24,
     "metadata": {},
     "output_type": "execute_result"
    }
   ],
   "source": [
    "#대구\n",
    "#친환경자동차 비율 \n",
    "percentage_d = []\n",
    "for i in range(36):\n",
    "    percentage_d.append(round(data_d[i]/(data_d[i]+data_nd[i])*100,4))\n",
    "percentage_d"
   ]
  },
  {
   "cell_type": "code",
   "execution_count": 25,
   "id": "endless-malawi",
   "metadata": {},
   "outputs": [
    {
     "data": {
      "text/plain": [
       "array([[0.055     , 0.003025  ],\n",
       "       [0.0543    , 0.00294849],\n",
       "       [0.0642    , 0.00412164],\n",
       "       [0.0706    , 0.00498436],\n",
       "       [0.0876    , 0.00767376],\n",
       "       [0.1452    , 0.02108304],\n",
       "       [0.1756    , 0.03083536],\n",
       "       [0.2041    , 0.04165681],\n",
       "       [0.2371    , 0.05621641],\n",
       "       [0.2597    , 0.06744409],\n",
       "       [0.3165    , 0.10017225],\n",
       "       [0.373     , 0.139129  ],\n",
       "       [0.3958    , 0.15665764],\n",
       "       [0.3991    , 0.15928081],\n",
       "       [0.4162    , 0.17322244],\n",
       "       [0.4455    , 0.19847025],\n",
       "       [0.4869    , 0.23707161],\n",
       "       [0.5134    , 0.26357956],\n",
       "       [0.5421    , 0.29387241],\n",
       "       [0.5642    , 0.31832164],\n",
       "       [0.5899    , 0.34798201],\n",
       "       [0.6181    , 0.38204761],\n",
       "       [0.6922    , 0.47914084],\n",
       "       [0.7116    , 0.50637456],\n",
       "       [0.7079    , 0.50112241],\n",
       "       [0.7061    , 0.49857721],\n",
       "       [0.7218    , 0.52099524],\n",
       "       [0.7253    , 0.52606009],\n",
       "       [0.7316    , 0.53523856],\n",
       "       [0.7357    , 0.54125449],\n",
       "       [0.7419    , 0.55041561],\n",
       "       [0.7407    , 0.54863649],\n",
       "       [0.7452    , 0.55532304],\n",
       "       [0.7457    , 0.55606849],\n",
       "       [0.7455    , 0.55577025],\n",
       "       [0.7398    , 0.54730404]])"
      ]
     },
     "execution_count": 25,
     "metadata": {},
     "output_type": "execute_result"
    }
   ],
   "source": [
    "percentage_d = np.array(percentage_d)\n",
    "X_d = percentage_d\n",
    "poly_feature = PolynomialFeatures(degree = 2,include_bias = False)\n",
    "\n",
    "X_d_poly = poly_feature.fit_transform(X_d.reshape(-1,1))\n",
    "X_d_poly"
   ]
  },
  {
   "cell_type": "code",
   "execution_count": 26,
   "id": "fifteen-lawrence",
   "metadata": {},
   "outputs": [],
   "source": [
    "line_fitter_d = LinearRegression()\n",
    "line_fitter_d.fit(X_d_poly, co_data_d)\n",
    "\n",
    "X_d_test = np.linspace(0.05,0.74,36).reshape(36,1)"
   ]
  },
  {
   "cell_type": "code",
   "execution_count": 27,
   "id": "honest-syndication",
   "metadata": {},
   "outputs": [
    {
     "data": {
      "image/png": "[encoded data removed]",
      "text/plain": [
       "<Figure size 720x720 with 1 Axes>"
      ]
     },
     "metadata": {},
     "output_type": "display_data"
    }
   ],
   "source": [
    "X_test_d_poly = poly_feature.fit_transform(X_d_test)\n",
    "y_pred_d = line_fitter_d.predict(X_test_d_poly)   #co 예측값\n",
    "\n",
    "#new_y = list(divide_list(y_pred,2))\n",
    "# len(X_test_poly)\n",
    "fig = plt.figure(figsize=(10,10))\n",
    "fig.set_facecolor('white')\n",
    "ax = fig.add_subplot()\n",
    "\n",
    "ax.plot(X_d, co_data_d,'o',label = '실제값')\n",
    "#ax.plot(X, new_y,'r')\n",
    "ax.plot(X_d_test, y_pred_d,'r', label = '예측값')\n",
    "plt.xlabel('전기자동차 비율')\n",
    "plt.ylabel('CO 오염도')\n",
    "plt.legend()\n",
    "plt.grid(linestyle='--')\n",
    "plt.ylim([0, 1])\n",
    "plt.title('대구')\n",
    "plt.show()"
   ]
  },
  {
   "cell_type": "code",
   "execution_count": 28,
   "id": "baking-delhi",
   "metadata": {},
   "outputs": [
    {
     "name": "stdout",
     "output_type": "stream",
     "text": [
      "0.11629\n",
      "[0.19643613 0.14960468 0.14692616 0.02315637 0.06908596 0.09471493\n",
      " 0.13004328 0.11507101 0.10979812 0.03422461 0.14164952 0.16782427\n",
      " 0.22429965 0.17107564 0.16815225 0.04447052 0.04679266 0.08881419\n",
      " 0.17053509 0.14195538 0.13307504 0.10389409 0.07558749 0.22536968\n",
      " 0.2654525  0.13583594 0.03348    0.08249533 0.10121003 0.08962411\n",
      " 0.08773757 0.16555041 0.10306263 0.03027423 0.03281479 0.08620443]\n"
     ]
    }
   ],
   "source": [
    "residual_2_d = abs(co_data_d - y_pred_d)\n",
    "avg_2_d = sum(residual_2_d,0.0)/len(residual_2_d)\n",
    "print(round(avg_2_d,5))\n",
    "print(residual_2_d)"
   ]
  },
  {
   "cell_type": "code",
   "execution_count": 29,
   "id": "discrete-definition",
   "metadata": {},
   "outputs": [
    {
     "data": {
      "text/plain": [
       "[0.6604,\n",
       " 0.659,\n",
       " 0.6593,\n",
       " 0.6755,\n",
       " 0.6791,\n",
       " 0.7334,\n",
       " 0.8552,\n",
       " 0.9343,\n",
       " 1.1095,\n",
       " 1.2349,\n",
       " 1.3763,\n",
       " 1.461,\n",
       " 1.4471,\n",
       " 1.441,\n",
       " 1.4822,\n",
       " 1.5544,\n",
       " 1.6438,\n",
       " 1.7238,\n",
       " 1.7476,\n",
       " 1.7679,\n",
       " 1.799,\n",
       " 1.8271,\n",
       " 1.8357,\n",
       " 1.8557,\n",
       " 1.8587,\n",
       " 1.874,\n",
       " 1.8854,\n",
       " 1.9406,\n",
       " 1.9499,\n",
       " 1.9765,\n",
       " 1.9754,\n",
       " 1.9775,\n",
       " 1.9819,\n",
       " 1.9718,\n",
       " 1.965,\n",
       " 2.0073]"
      ]
     },
     "execution_count": 29,
     "metadata": {},
     "output_type": "execute_result"
    }
   ],
   "source": [
    "#제주\n",
    "#친환경자동차 비율 \n",
    "percentage_j = []\n",
    "for i in range(36):\n",
    "    percentage_j.append(round(data_j[i]/(data_j[i]+data_nj[i])*100,4))\n",
    "percentage_j"
   ]
  },
  {
   "cell_type": "code",
   "execution_count": 31,
   "id": "finite-swedish",
   "metadata": {},
   "outputs": [
    {
     "data": {
      "image/png": "[encoded data removed]",
      "text/plain": [
       "<Figure size 720x720 with 1 Axes>"
      ]
     },
     "metadata": {},
     "output_type": "display_data"
    }
   ],
   "source": [
    "percentage_j = np.array(percentage_j)\n",
    "X_j = percentage_j\n",
    "poly_feature = PolynomialFeatures(degree = 2,include_bias = False)\n",
    "\n",
    "X_j_poly = poly_feature.fit_transform(X_j.reshape(-1,1))\n",
    "\n",
    "line_fitter_j = LinearRegression()\n",
    "line_fitter_j.fit(X_j_poly, co_data_j)\n",
    "\n",
    "X_j_test = np.linspace(0.6,2.1,36).reshape(36,1)\n",
    "\n",
    "X_test_j_poly = poly_feature.fit_transform(X_j_test)\n",
    "y_pred_j = line_fitter_j.predict(X_test_j_poly)   #co 예측값\n",
    "\n",
    "#new_y = list(divide_list(y_pred,2))\n",
    "# len(X_test_poly)\n",
    "fig = plt.figure(figsize=(10,10))\n",
    "fig.set_facecolor('white')\n",
    "ax = fig.add_subplot()\n",
    "\n",
    "ax.plot(X_j, co_data_j,'o',label = '실제값')\n",
    "#ax.plot(X, new_y,'r')\n",
    "ax.plot(X_j_test, y_pred_j,'r', label = '예측값')\n",
    "plt.xlabel('전기자동차 비율')\n",
    "plt.ylabel('CO 오염도')\n",
    "plt.legend()\n",
    "plt.grid(linestyle='--')\n",
    "plt.ylim([0, 1])\n",
    "plt.title('제주')\n",
    "plt.show()"
   ]
  },
  {
   "cell_type": "code",
   "execution_count": 32,
   "id": "normal-corps",
   "metadata": {},
   "outputs": [
    {
     "name": "stdout",
     "output_type": "stream",
     "text": [
      "0.05769\n",
      "[0.0197036  0.08941782 0.13910711 0.01877147 0.03158909 0.08197458\n",
      " 0.112385   0.11282035 0.11328063 0.03376584 0.01427597 0.01481103\n",
      " 0.11462897 0.13404405 0.13343421 0.03279943 0.03213973 0.04854491\n",
      " 0.04925447 0.00998896 0.09074838 0.05153273 0.007658   0.0568238\n",
      " 0.09596466 0.1050806  0.02417161 0.0232377  0.02227885 0.02870492\n",
      " 0.07971363 0.08074726 0.01180582 0.0128893  0.00399772 0.04486894]\n"
     ]
    }
   ],
   "source": [
    "residual_2_j = abs(co_data_j - y_pred_j)\n",
    "avg_2_j = sum(residual_2_j,0.0)/len(residual_2_j)\n",
    "print(round(avg_2_j,5))\n",
    "print(residual_2_j)"
   ]
  },
  {
   "cell_type": "code",
   "execution_count": 33,
   "id": "expired-concrete",
   "metadata": {},
   "outputs": [
    {
     "name": "stdout",
     "output_type": "stream",
     "text": [
      "<잔차 평균>\n",
      "서울:0.10317426408208956\n",
      "경기:0.09218491148041727\n",
      "인천:0.09355376643261973\n",
      "대구:0.11628607459760858\n",
      "제주:0.0576933648432078\n",
      "전체:0.09257847628718859\n"
     ]
    }
   ],
   "source": [
    "print('<잔차 평균>')\n",
    "print('서울:{}'.format(avg_2))\n",
    "print('경기:{}'.format(avg_2_g))\n",
    "print('인천:{}'.format(avg_2_i))\n",
    "print('대구:{}'.format(avg_2_d))\n",
    "print('제주:{}'.format(avg_2_j))\n",
    "print('전체:{}'.format((avg_2+avg_2_g+avg_2_i+avg_2_d+avg_2_j)/5))"
   ]
  },
  {
   "cell_type": "code",
   "execution_count": null,
   "id": "completed-currency",
   "metadata": {},
   "outputs": [],
   "source": []
  },
  {
   "cell_type": "code",
   "execution_count": null,
   "id": "systematic-thanksgiving",
   "metadata": {},
   "outputs": [],
   "source": []
  }
 ],
 "metadata": {
  "kernelspec": {
   "display_name": "Python 3",
   "language": "python",
   "name": "python3"
  },
  "language_info": {
   "codemirror_mode": {
    "name": "ipython",
    "version": 3
   },
   "file_extension": ".py",
   "mimetype": "text/x-python",
   "name": "python",
   "nbconvert_exporter": "python",
   "pygments_lexer": "ipython3",
   "version": "3.9.1"
  }
 },
 "nbformat": 4,
 "nbformat_minor": 5
}
